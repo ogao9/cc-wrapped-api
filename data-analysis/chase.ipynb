{
 "cells": [
  {
   "cell_type": "markdown",
   "metadata": {},
   "source": [
    "## Chase Credit Card Transaction History Analysis\n"
   ]
  },
  {
   "cell_type": "code",
   "execution_count": null,
   "metadata": {},
   "outputs": [],
   "source": [
    "import pandas as pd\n",
    "import numpy as np\n",
    "import matplotlib.pyplot as plt\n",
    "import seaborn as sns"
   ]
  },
  {
   "cell_type": "code",
   "execution_count": null,
   "metadata": {},
   "outputs": [],
   "source": [
    "df = pd.read_csv('data/chase.csv')\n",
    "df.head()"
   ]
  },
  {
   "cell_type": "code",
   "execution_count": null,
   "metadata": {},
   "outputs": [],
   "source": [
    "df.info()"
   ]
  },
  {
   "cell_type": "code",
   "execution_count": null,
   "metadata": {},
   "outputs": [],
   "source": [
    "# chase specific cleaning\n",
    "df = df[~df['Type'].isin(['Payment', 'Adjustment', 'Fee'])]\n",
    "df = df.drop(['Post Date', 'Memo'], axis=1)\n",
    "df['Amount'] *= -1\n",
    "df.head()"
   ]
  },
  {
   "cell_type": "code",
   "execution_count": null,
   "metadata": {},
   "outputs": [],
   "source": [
    "from cleaning import clean_df\n",
    "\n",
    "df = clean_df(df)\n",
    "print(df['Description'].to_string(index=False))"
   ]
  },
  {
   "cell_type": "code",
   "execution_count": null,
   "metadata": {},
   "outputs": [],
   "source": [
    "df.info()"
   ]
  },
  {
   "cell_type": "markdown",
   "metadata": {},
   "source": [
    "### Start Analysis"
   ]
  },
  {
   "cell_type": "markdown",
   "metadata": {},
   "source": [
    "1. Top Spend categories by percentage money spent\n",
    "2. TODO: One place spent just like you (?)\n",
    "3. How many different places spent \n",
    "4. Top 5 Places visited by frequency\n",
    "5. Total money spent and day spent the most\n",
    "6. Top 5 places visited by money spent\n"
   ]
  },
  {
   "cell_type": "code",
   "execution_count": null,
   "metadata": {},
   "outputs": [],
   "source": [
    "# Calculate the total money spent\n",
    "total_spent = df['Amount'].sum()\n",
    "\n",
    "# Group the data by category and calculate the sum of amounts for each category\n",
    "category_spent = df.groupby('Category')['Amount'].sum()\n",
    "\n",
    "# Calculate the percentage of total money spent for each category\n",
    "category_percentage = (category_spent / total_spent) * 100\n",
    "\n",
    "# Sort the categories by percentage in descending order\n",
    "top_categories = category_percentage.sort_values(ascending=False)\n",
    "\n",
    "plt.figure(figsize=(10, 6))\n",
    "sns.barplot(x=top_categories.index, y=top_categories.values)\n",
    "plt.title('Top Spend Categories by Percentage of Total Money Spent')\n",
    "plt.xlabel('Category')\n",
    "plt.ylabel('Percentage of Total Money Spent')\n",
    "plt.xticks(rotation=45)\n",
    "plt.show()"
   ]
  },
  {
   "cell_type": "code",
   "execution_count": null,
   "metadata": {},
   "outputs": [],
   "source": [
    "df[\"Description\"].nunique()"
   ]
  },
  {
   "cell_type": "code",
   "execution_count": null,
   "metadata": {},
   "outputs": [],
   "source": [
    "df[\"Description\"].value_counts()[:10]"
   ]
  },
  {
   "cell_type": "code",
   "execution_count": null,
   "metadata": {},
   "outputs": [],
   "source": [
    "# Group the data by transaction date and calculate the sum of amounts for each date\n",
    "date_spent = df.groupby('Transaction Date')['Amount'].sum()\n",
    "\n",
    "# Find the date with the maximum amount spent\n",
    "date_with_most_spent = date_spent.idxmax()\n",
    "\n",
    "# Get the amount spent for the date with the maximum amount spent\n",
    "amount_spent = date_spent[date_with_most_spent]\n",
    "\n",
    "date_with_most_spent, amount_spent"
   ]
  },
  {
   "cell_type": "code",
   "execution_count": null,
   "metadata": {},
   "outputs": [],
   "source": [
    "top_description = df.groupby('Description')['Amount'].sum().nlargest(5)\n",
    "top_description"
   ]
  },
  {
   "cell_type": "markdown",
   "metadata": {},
   "source": [
    "Some of my other ideas \n",
    "- distribution of purchases\n",
    "- average price of a meal\n",
    "- weekend vs weekday spend\n",
    "- total spend on each day of the week"
   ]
  },
  {
   "cell_type": "code",
   "execution_count": null,
   "metadata": {},
   "outputs": [],
   "source": [
    "sns.displot(df['Amount'])"
   ]
  },
  {
   "cell_type": "code",
   "execution_count": null,
   "metadata": {},
   "outputs": [],
   "source": [
    "sns.displot(df[(df['Category'] == 'Food & Drink')], binwidth=2)"
   ]
  },
  {
   "cell_type": "code",
   "execution_count": null,
   "metadata": {},
   "outputs": [],
   "source": [
    "food_drink_transactions = df[(df['Category'] == 'Food & Drink') & (df['Amount'] <= 50) & (df['Amount'] >= 7)]\n",
    "average_amount = food_drink_transactions['Amount'].mean()\n",
    "average_amount"
   ]
  },
  {
   "cell_type": "code",
   "execution_count": null,
   "metadata": {},
   "outputs": [],
   "source": [
    "# Convert 'Transaction Date' column to datetime\n",
    "df['Transaction Date'] = pd.to_datetime(df['Transaction Date'], format='%m/%d/%Y')\n",
    "\n",
    "# Group the data by day of the week and calculate the sum of amounts for each day\n",
    "day_spent = df.groupby(df['Transaction Date'].dt.day_name())['Amount'].sum()\n",
    "\n",
    "# Plot the total money spent by day\n",
    "plt.figure(figsize=(10, 6))\n",
    "sns.barplot(x=day_spent.index, y=day_spent.values)\n",
    "plt.title('Total Money Spent by Day')\n",
    "plt.xlabel('Day')\n",
    "plt.ylabel('Total Money Spent')\n",
    "plt.xticks(rotation=45)\n",
    "plt.show()"
   ]
  },
  {
   "cell_type": "code",
   "execution_count": null,
   "metadata": {},
   "outputs": [],
   "source": [
    "tuesday_transactions = df[df['Transaction Date'].dt.day_name() == 'Tuesday']\n",
    "tuesday_transactions = tuesday_transactions.sort_values('Amount', ascending=False)\n",
    "tuesday_transactions"
   ]
  }
 ],
 "metadata": {
  "kernelspec": {
   "display_name": "Python 3",
   "language": "python",
   "name": "python3"
  },
  "language_info": {
   "codemirror_mode": {
    "name": "ipython",
    "version": 3
   },
   "file_extension": ".py",
   "mimetype": "text/x-python",
   "name": "python",
   "nbconvert_exporter": "python",
   "pygments_lexer": "ipython3",
   "version": "3.12.0"
  }
 },
 "nbformat": 4,
 "nbformat_minor": 2
}
